{
 "cells": [
  {
   "cell_type": "code",
   "execution_count": 3,
   "metadata": {},
   "outputs": [
    {
     "name": "stdout",
     "output_type": "stream",
     "text": [
      "What is the mental health condition of the patient?\n",
      "Post traumatic stress disorder\n",
      "What event led to the patient's trauma?\n",
      "Explosion\n",
      "How was the patient's childhood?\n",
      "\n",
      "What challenge the patient has?\n",
      "Experiential memory problem\n",
      "How does he feel?\n",
      "detached and numb\n",
      "What is his biggest fear?\n",
      "Depression\n",
      "Named entities:\n",
      "Person_Name_0: Yotam\n",
      "Organization_Name_1: the Israeli army\n",
      "location_2: Gaza\n",
      "Person_Name_3: Yotam\n",
      "Person_Name_4: Yotam\n",
      "Person_Name_5: Yotam\n",
      "Person_Name_6: Yotam\n",
      "Person_Name_7: Yotam\n"
     ]
    }
   ],
   "source": [
    "from models import *\n",
    "\n",
    "def ask_questions_about_text(file_name, question):\n",
    "    with open(file_name) as f:\n",
    "        text = f.read()\n",
    "        output = ask_model(question, text)\n",
    "        print(output)\n",
    "\n",
    "def parse_named_entity_recognition(file_name):\n",
    "    entities = {}\n",
    "    with open(file_name) as f:\n",
    "        text = f.read()\n",
    "        output = named_entity_recognition(text)\n",
    "        i = 0\n",
    "        for dict in output:\n",
    "            try:\n",
    "                key = dict['entity_group'] + f\"_{i}\"\n",
    "                value = dict['word']\n",
    "                entities[key] = value\n",
    "                i += 1\n",
    "            finally:\n",
    "                continue\n",
    "    # print entities\n",
    "    print(\"Named entities:\")\n",
    "    for key, value in entities.items():\n",
    "        print(f\"{key}: {value}\")\n",
    "\n",
    "\n",
    "file_name = \"Yotam.txt\"\n",
    "\n",
    "questions = [\"What is the mental health condition of the patient?\",\n",
    "             \"What event led to the patient's trauma?\",\n",
    "             \"How was the patient's childhood?\",\n",
    "             \"What challenge the patient has?\",\n",
    "             \"How does he feel?\",\n",
    "             \"What is his biggest fear?\"\n",
    "            ]\n",
    "\n",
    "for q in questions:\n",
    "    print(q)\n",
    "    ask_questions_about_text(file_name, q)\n",
    "parse_named_entity_recognition(file_name)"
   ]
  }
 ],
 "metadata": {
  "kernelspec": {
   "display_name": "project",
   "language": "python",
   "name": "python3"
  },
  "language_info": {
   "codemirror_mode": {
    "name": "ipython",
    "version": 3
   },
   "file_extension": ".py",
   "mimetype": "text/x-python",
   "name": "python",
   "nbconvert_exporter": "python",
   "pygments_lexer": "ipython3",
   "version": "3.8.12"
  }
 },
 "nbformat": 4,
 "nbformat_minor": 2
}
